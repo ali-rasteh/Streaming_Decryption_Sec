{
 "cells": [
  {
   "cell_type": "markdown",
   "metadata": {},
   "source": [
    "## ChipWhispere Capture (Lite, Nano, Pro)"
   ]
  },
  {
   "cell_type": "code",
   "execution_count": null,
   "metadata": {},
   "outputs": [],
   "source": [
    "# try this\n",
    "# IF YOU FOLLOWED THE INSTALLATION INSTRUCTIONS AND YOU GET module chipwhisperer not found\n",
    "#it might be that jupyter is not getting your virtual environment, \n",
    "#follow this https://albertauyeung.github.io/2020/08/17/pyenv-jupyter.html/\n",
    "\n",
    "import chipwhisperer as cw\n",
    "scope = cw.scope()\n",
    "scope.upgrade_firmware()\n",
    "    "
   ]
  },
  {
   "cell_type": "code",
   "execution_count": null,
   "metadata": {},
   "outputs": [],
   "source": [
    "# if above failed use this\n",
    "import chipwhisperer as cw\n",
    "cw.program_sam_firmware(hardware_type='cwnano')"
   ]
  },
  {
   "cell_type": "code",
   "execution_count": null,
   "metadata": {},
   "outputs": [],
   "source": [
    "%%bash\n",
    "# if failed and you are on linux make sure you can write to the serial port\n",
    "# change /dev/ttyACM0 with the path where your chip whisperer is found\n",
    "sudo chmod a+rw /dev/ttyACM0\n"
   ]
  }
 ],
 "metadata": {
  "kernelspec": {
   "display_name": "cw",
   "language": "python",
   "name": "cw"
  },
  "language_info": {
   "codemirror_mode": {
    "name": "ipython",
    "version": 3
   },
   "file_extension": ".py",
   "mimetype": "text/x-python",
   "name": "python",
   "nbconvert_exporter": "python",
   "pygments_lexer": "ipython3",
   "version": "3.9.5"
  }
 },
 "nbformat": 4,
 "nbformat_minor": 4
}
