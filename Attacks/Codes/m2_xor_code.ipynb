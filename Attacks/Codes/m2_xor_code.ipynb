{
 "cells": [
  {
   "cell_type": "code",
   "execution_count": 11,
   "id": "482dc0f0",
   "metadata": {},
   "outputs": [
    {
     "ename": "OSError",
     "evalue": "Unable to communicate with found ChipWhisperer. Check that \nanother process isn't connected to it and that you have permission to communicate with it.",
     "output_type": "error",
     "traceback": [
      "\u001b[1;31m---------------------------------------------------------------------------\u001b[0m",
      "\u001b[1;31mOSError\u001b[0m                                   Traceback (most recent call last)",
      "Cell \u001b[1;32mIn[11], line 2\u001b[0m\n\u001b[0;32m      1\u001b[0m \u001b[38;5;28;01mimport\u001b[39;00m \u001b[38;5;21;01mchipwhisperer\u001b[39;00m \u001b[38;5;28;01mas\u001b[39;00m \u001b[38;5;21;01mcw\u001b[39;00m\n\u001b[1;32m----> 2\u001b[0m scope \u001b[38;5;241m=\u001b[39m \u001b[43mcw\u001b[49m\u001b[38;5;241;43m.\u001b[39;49m\u001b[43mscope\u001b[49m\u001b[43m(\u001b[49m\u001b[43m)\u001b[49m\n\u001b[0;32m      3\u001b[0m scope\u001b[38;5;241m.\u001b[39mdefault_setup()\n",
      "File \u001b[1;32mc:\\users\\sghaz\\chipwhisperer5_64\\cw\\home\\portable\\chipwhisperer\\software\\chipwhisperer\\__init__.py:384\u001b[0m, in \u001b[0;36mscope\u001b[1;34m(scope_type, name, sn, idProduct, bitstream, force, prog_speed, **kwargs)\u001b[0m\n\u001b[0;32m    381\u001b[0m         \u001b[38;5;28;01mraise\u001b[39;00m \u001b[38;5;167;01mValueError\u001b[39;00m\n\u001b[0;32m    383\u001b[0m \u001b[38;5;28;01mif\u001b[39;00m scope_type \u001b[38;5;129;01mis\u001b[39;00m \u001b[38;5;28;01mNone\u001b[39;00m:\n\u001b[1;32m--> 384\u001b[0m     scope_type \u001b[38;5;241m=\u001b[39m get_cw_type(\u001b[38;5;241m*\u001b[39m\u001b[38;5;241m*\u001b[39mkwargs)\n\u001b[0;32m    385\u001b[0m rtn : scopes\u001b[38;5;241m.\u001b[39mScopeTypes \u001b[38;5;241m=\u001b[39m scope_type()\n\u001b[0;32m    386\u001b[0m \u001b[38;5;28;01mtry\u001b[39;00m:\n",
      "File \u001b[1;32mc:\\users\\sghaz\\chipwhisperer5_64\\cw\\home\\portable\\chipwhisperer\\software\\chipwhisperer\\common\\utils\\util.py:522\u001b[0m, in \u001b[0;36mget_cw_type\u001b[1;34m(sn, idProduct, hw_location, **kwargs)\u001b[0m\n\u001b[0;32m    519\u001b[0m     possible_ids \u001b[38;5;241m=\u001b[39m [\u001b[38;5;241m0xace0\u001b[39m, \u001b[38;5;241m0xace2\u001b[39m, \u001b[38;5;241m0xace3\u001b[39m, \u001b[38;5;241m0xace5\u001b[39m]\n\u001b[0;32m    521\u001b[0m cwusb \u001b[38;5;241m=\u001b[39m NAEUSB_Backend()\n\u001b[1;32m--> 522\u001b[0m device \u001b[38;5;241m=\u001b[39m \u001b[43mcwusb\u001b[49m\u001b[38;5;241;43m.\u001b[39;49m\u001b[43mfind\u001b[49m\u001b[43m(\u001b[49m\u001b[43mserial_number\u001b[49m\u001b[38;5;241;43m=\u001b[39;49m\u001b[43msn\u001b[49m\u001b[43m,\u001b[49m\u001b[43m \u001b[49m\u001b[43midProduct\u001b[49m\u001b[38;5;241;43m=\u001b[39;49m\u001b[43mpossible_ids\u001b[49m\u001b[43m,\u001b[49m\u001b[43m \u001b[49m\u001b[43mhw_location\u001b[49m\u001b[38;5;241;43m=\u001b[39;49m\u001b[43mhw_location\u001b[49m\u001b[43m)\u001b[49m\n\u001b[0;32m    523\u001b[0m name \u001b[38;5;241m=\u001b[39m device\u001b[38;5;241m.\u001b[39mgetProduct()\n\u001b[0;32m    524\u001b[0m cwusb\u001b[38;5;241m.\u001b[39musb_ctx\u001b[38;5;241m.\u001b[39mclose()\n",
      "File \u001b[1;32mc:\\users\\sghaz\\chipwhisperer5_64\\cw\\home\\portable\\chipwhisperer\\software\\chipwhisperer\\hardware\\naeusb\\naeusb.py:342\u001b[0m, in \u001b[0;36mNAEUSB_Backend.find\u001b[1;34m(self, serial_number, idProduct, hw_location)\u001b[0m\n\u001b[0;32m    339\u001b[0m \u001b[38;5;28;01mdef\u001b[39;00m \u001b[38;5;21mfind\u001b[39m(\u001b[38;5;28mself\u001b[39m, serial_number : Optional[\u001b[38;5;28mstr\u001b[39m]\u001b[38;5;241m=\u001b[39m\u001b[38;5;28;01mNone\u001b[39;00m, idProduct : Optional[List[\u001b[38;5;28mint\u001b[39m]]\u001b[38;5;241m=\u001b[39m\u001b[38;5;28;01mNone\u001b[39;00m, \n\u001b[0;32m    340\u001b[0m     hw_location : Optional[Tuple[\u001b[38;5;28mint\u001b[39m, \u001b[38;5;28mint\u001b[39m]]\u001b[38;5;241m=\u001b[39m\u001b[38;5;28;01mNone\u001b[39;00m) \u001b[38;5;241m-\u001b[39m\u001b[38;5;241m>\u001b[39m usb1\u001b[38;5;241m.\u001b[39mUSBDevice:\n\u001b[0;32m    341\u001b[0m     \u001b[38;5;66;03m# check if we got anything\u001b[39;00m\n\u001b[1;32m--> 342\u001b[0m     dev_list \u001b[38;5;241m=\u001b[39m \u001b[38;5;28;43mself\u001b[39;49m\u001b[38;5;241;43m.\u001b[39;49m\u001b[43mget_possible_devices\u001b[49m\u001b[43m(\u001b[49m\u001b[43midProduct\u001b[49m\u001b[43m,\u001b[49m\u001b[43m \u001b[49m\u001b[43mattempt_access\u001b[49m\u001b[38;5;241;43m=\u001b[39;49m\u001b[43m(\u001b[49m\u001b[38;5;129;43;01mnot\u001b[39;49;00m\u001b[43m \u001b[49m\u001b[43mhw_location\u001b[49m\u001b[43m)\u001b[49m\u001b[43m)\u001b[49m\n\u001b[0;32m    343\u001b[0m     \u001b[38;5;28;01mif\u001b[39;00m \u001b[38;5;28mlen\u001b[39m(dev_list) \u001b[38;5;241m==\u001b[39m \u001b[38;5;241m0\u001b[39m:\n\u001b[0;32m    344\u001b[0m         \u001b[38;5;28;01mraise\u001b[39;00m \u001b[38;5;167;01mOSError\u001b[39;00m(\u001b[38;5;124m\"\u001b[39m\u001b[38;5;124mCould not find ChipWhisperer. Is it connected?\u001b[39m\u001b[38;5;124m\"\u001b[39m)\n",
      "File \u001b[1;32mc:\\users\\sghaz\\chipwhisperer5_64\\cw\\home\\portable\\chipwhisperer\\software\\chipwhisperer\\hardware\\naeusb\\naeusb.py:466\u001b[0m, in \u001b[0;36mNAEUSB_Backend.get_possible_devices\u001b[1;34m(self, idProduct, dictonly, attempt_access)\u001b[0m\n\u001b[0;32m    463\u001b[0m                 dev_list\u001b[38;5;241m.\u001b[39mremove(dev)\n\u001b[0;32m    465\u001b[0m         \u001b[38;5;28;01mif\u001b[39;00m \u001b[38;5;28mlen\u001b[39m(dev_list) \u001b[38;5;241m==\u001b[39m \u001b[38;5;241m0\u001b[39m:\n\u001b[1;32m--> 466\u001b[0m             \u001b[38;5;28;01mraise\u001b[39;00m \u001b[38;5;167;01mOSError\u001b[39;00m(\u001b[38;5;124m\"\u001b[39m\u001b[38;5;124mUnable to communicate with found ChipWhisperer. Check that \u001b[39m\u001b[38;5;130;01m\\\u001b[39;00m\n\u001b[0;32m    467\u001b[0m \u001b[38;5;130;01m\\n\u001b[39;00m\u001b[38;5;124manother process isn\u001b[39m\u001b[38;5;124m'\u001b[39m\u001b[38;5;124mt connected to it and that you have permission to communicate with it.\u001b[39m\u001b[38;5;124m\"\u001b[39m)\n\u001b[0;32m    469\u001b[0m         \u001b[38;5;28;01mreturn\u001b[39;00m dev_list\n",
      "\u001b[1;31mOSError\u001b[0m: Unable to communicate with found ChipWhisperer. Check that \nanother process isn't connected to it and that you have permission to communicate with it."
     ]
    }
   ],
   "source": [
    "import chipwhisperer as cw\n",
    "scope = cw.scope()\n",
    "scope.default_setup()"
   ]
  },
  {
   "cell_type": "code",
   "execution_count": 77,
   "id": "3278d60f",
   "metadata": {},
   "outputs": [],
   "source": [
    "# change this to match the path of your HEX file\n",
    "HEX_PATH =  \"./jsb9786.hex\""
   ]
  },
  {
   "cell_type": "code",
   "execution_count": 78,
   "id": "e642143e",
   "metadata": {},
   "outputs": [
    {
     "name": "stdout",
     "output_type": "stream",
     "text": [
      "Detected known STMF32: STM32F04xxx\n",
      "Extended erase (0x44), this can take ten seconds or more\n",
      "Attempting to program 23451 bytes at 0x8000000\n",
      "STM32F Programming flash...\n",
      "STM32F Reading flash...\n",
      "Verified flash OK, 23451 bytes\n"
     ]
    }
   ],
   "source": [
    "# program the board\n",
    "cw.program_target(scope, cw.programmers.STM32FProgrammer, HEX_PATH)"
   ]
  },
  {
   "cell_type": "code",
   "execution_count": 79,
   "id": "23d692ea",
   "metadata": {},
   "outputs": [],
   "source": [
    "## UPDATE THESE KEYS TO MATCH YOUR SETUP\n",
    "\n",
    "PROTOCOL_NOP = 0x10\n",
    "PROTOCOL_XOR = 0x20\n",
    "PROTOCOL_DES = 0x30\n",
    "PROTOCOL_AES = 0x40\n",
    "\n",
    "MAGIC_BYTE = 0xFE\n",
    "\n",
    "RESPONSE_SUCCESS = 0x00\n",
    "RESPONSE_FAILURE = 0x01\n",
    "RESPONSE_UNKNOWN_PROTOCOL = 0x02\n",
    "\n",
    "def response_code_to_string(code):\n",
    "    code = ord(code)\n",
    "    if code == RESPONSE_SUCCESS:\n",
    "        return \"SUCCESS\"\n",
    "    elif code == RESPONSE_FAILURE:\n",
    "        return \"FAILURE\"\n",
    "    elif code == RESPONSE_UNKNOWN_PROTOCOL:\n",
    "        return \"UNKNOWN_PROTOCOL\"\n",
    "    else:\n",
    "        return \"UNKNOWN_RESPONSE_CODE\"\n",
    "\n",
    "# reads n bytes from target uart\n",
    "def read_uart(target, n_bytes):\n",
    "    response = []\n",
    "    while len(response) < n_bytes:\n",
    "        response += target.read()\n",
    "    return response"
   ]
  },
  {
   "cell_type": "code",
   "execution_count": 80,
   "id": "d75f8dca",
   "metadata": {},
   "outputs": [
    {
     "name": "stdout",
     "output_type": "stream",
     "text": [
      "38400\n"
     ]
    }
   ],
   "source": [
    "target = cw.target(scope, noflush=True) # MUST HAVE noflush=True\n",
    "print(target.baud) # make sure this baud rate is set in your project"
   ]
  },
  {
   "cell_type": "code",
   "execution_count": 81,
   "id": "3feb3cb0",
   "metadata": {},
   "outputs": [
    {
     "name": "stdout",
     "output_type": "stream",
     "text": [
      "===============MESSAGE_NOP=================\n",
      "Message_nop :10 fe 49 20 61 6d 20 74 68 65 20 73 65 6e 61 74 65\n",
      "Response_nop:00 fe 49 20 61 6d 20 74 68 65 20 73 65 6e 61 74 65\n",
      "Response code: SUCCESS\n",
      "Response_nop: I am the senate\n",
      "===============MESSAGE_XOR=================\n",
      "[32, 0, 0, 0, 0, 0, 0, 0, 0, 0, 0, 0, 0, 0, 0, 0, 0]\n",
      "Message_xor :20 00 00 00 00 00 00 00 00 00 00 00 00 00 00 00 00\n",
      "Response_xor:01 4a c3 f7 8d 2b 91 5e a2 77 19 bd 6f e8 34 d0 af\n",
      "Response code: FAILURE\n",
      "Response_xor: Ã÷+^¢w\u0019½oè4Ð¯\n"
     ]
    }
   ],
   "source": [
    "# #convdert the message to a list of bytes\n",
    "from time import sleep\n",
    "from Crypto.Cipher import DES\n",
    "from Crypto.Cipher import AES\n",
    "message = \"I am the senate\"\n",
    "\n",
    "message = [ord(c) for c in message]\n",
    "#put the magic byte at the beginning of the message\n",
    "message_plaintext = [MAGIC_BYTE] + message\n",
    "\n",
    "sleep(0.1)\n",
    "\n",
    "print(\"===============MESSAGE_NOP=================\")\n",
    "\n",
    "#make a copy of the message to send with the nop protocol\n",
    "message_nop = message_plaintext.copy()\n",
    "\n",
    "#no operation on the message\n",
    "\n",
    "#prepend the protocol byte\n",
    "message_nop = [PROTOCOL_NOP] + message_nop\n",
    "\n",
    "#print the hex representation of the message_nop\n",
    "print(\"Message_nop :\" + \" \".join(\"{:02x}\".format(c) for c in message_nop))\n",
    "#print(bytes(message_nop))\n",
    "#write the message to the uart\n",
    "target.write(bytes(message_nop))\n",
    "\n",
    "#read the 17 byte response\n",
    "response_nop = read_uart(target, 17)\n",
    "\n",
    "print(\"Response_nop:\" + \" \".join(\"{:02x}\".format(ord(c)) for c in response_nop))\n",
    "\n",
    "#check the response code\n",
    "print(\"Response code: {}\".format(response_code_to_string(response_nop[0])))\n",
    "\n",
    "#convert the response_nop to a printable string (excluding the response code and magic byte)\n",
    "response_nop = \"\".join(response_nop[2:])\n",
    "print(\"Response_nop: {}\".format(response_nop))\n",
    "\n",
    "sleep(0.1)\n",
    "\n",
    "print(\"===============MESSAGE_XOR=================\")\n",
    "\n",
    "#make a copy of the message to send with the xor protocol\n",
    "#message_xor = message_plaintext.copy()\n",
    "message_xor = [0x00, 0x00, 0x00, 0x00, 0x00, 0x00, 0x00, 0x00, 0x00, 0x00, 0x00, 0x00, 0x00, 0x00, 0x00, 0x00]\n",
    "\n",
    "#prepend the protocol byte\n",
    "message_xor = [PROTOCOL_XOR] + message_xor\n",
    "print(message_xor)\n",
    "\n",
    "#print the hex representation of the message_xor\n",
    "print(\"Message_xor :\" + \" \".join(\"{:02x}\".format(c) for c in message_xor))\n",
    "\n",
    "# start scoping before sending decrypt request\n",
    "scope.arm()\n",
    "\n",
    "#write the message to the uart\n",
    "target.write(bytes(message_xor))\n",
    "\n",
    "#read the 17 byte response\n",
    "response_xor = read_uart(target, 17)\n",
    "XOR_KEY = response_xor.copy()\n",
    "\n",
    "#print the hex representation of the response\n",
    "print(\"Response_xor:\" + \" \".join(\"{:02x}\".format(ord(c)) for c in response_xor))\n",
    "\n",
    "#check the response code\n",
    "print(\"Response code: {}\".format(response_code_to_string(response_xor[0])))\n",
    "\n",
    "#convert the response_xor to a printable string (excluding the response code and magic byte)\n",
    "response_xor = \"\".join(response_xor[2:])\n",
    "print(\"Response_xor: {}\".format(response_xor))\n",
    "\n",
    "sleep(0.1)\n"
   ]
  },
  {
   "cell_type": "code",
   "execution_count": 82,
   "id": "a885b650",
   "metadata": {},
   "outputs": [
    {
     "name": "stdout",
     "output_type": "stream",
     "text": [
      "XOR_KEY: 4a c3 f7 8d 2b 91 5e a2 77 19 bd 6f e8 34 d0 af\n",
      "===============MESSAGE_XOR=================\n",
      "Message_xor :20 b4 8a d7 ec 46 b1 2a ca 12 39 ce 0a 86 55 a4 ca\n",
      "Response_xor:00 fe 49 20 61 6d 20 74 68 65 20 73 65 6e 61 74 65\n",
      "Response code: SUCCESS\n",
      "Response_xor: I am the senate\n"
     ]
    }
   ],
   "source": [
    "#XOR_KEY = [\n",
    "#    0xa6, 0x81, 0x75, 0x54, 0x13, 0xb9, 0xbc, 0x45, 0x1c, 0x06, 0x8f, 0x99, 0x5f, 0xfb, 0x59, 0x98\n",
    "#]\n",
    "XOR_KEY = [ord(c) for c in XOR_KEY]\n",
    "XOR_KEY = XOR_KEY[1:]\n",
    "print(\"XOR_KEY: \" + \" \".join(\"{:02x}\".format(c) for c in XOR_KEY))\n",
    "\n",
    "print(\"===============MESSAGE_XOR=================\")\n",
    "\n",
    "#make a copy of the message to send with the xor protocol\n",
    "message_xor = message_plaintext.copy()\n",
    "\n",
    "#xor the message with the key\n",
    "for i in range(len(message_xor)):\n",
    "    message_xor[i] ^= XOR_KEY[i]\n",
    "\n",
    "#prepend the protocol byte\n",
    "message_xor = [PROTOCOL_XOR] + message_xor\n",
    "\n",
    "#print the hex representation of the message_xor\n",
    "print(\"Message_xor :\" + \" \".join(\"{:02x}\".format(c) for c in message_xor))\n",
    "\n",
    "# start scoping before sending decrypt request\n",
    "scope.arm()\n",
    "\n",
    "#write the message to the uart\n",
    "target.write(bytes(message_xor))\n",
    "\n",
    "#read the 17 byte response\n",
    "response_xor = read_uart(target, 17)\n",
    "\n",
    "#print the hex representation of the response\n",
    "print(\"Response_xor:\" + \" \".join(\"{:02x}\".format(ord(c)) for c in response_xor))\n",
    "\n",
    "#check the response code\n",
    "print(\"Response code: {}\".format(response_code_to_string(response_xor[0])))\n",
    "\n",
    "#convert the response_xor to a printable string (excluding the response code and magic byte)\n",
    "response_xor = \"\".join(response_xor[2:])\n",
    "print(\"Response_xor: {}\".format(response_xor))\n",
    "\n",
    "sleep(0.1)"
   ]
  },
  {
   "cell_type": "code",
   "execution_count": null,
   "id": "f6dd2b82",
   "metadata": {},
   "outputs": [],
   "source": []
  }
 ],
 "metadata": {
  "kernelspec": {
   "display_name": "Python 3 (ipykernel)",
   "language": "python",
   "name": "python3"
  },
  "language_info": {
   "codemirror_mode": {
    "name": "ipython",
    "version": 3
   },
   "file_extension": ".py",
   "mimetype": "text/x-python",
   "name": "python",
   "nbconvert_exporter": "python",
   "pygments_lexer": "ipython3",
   "version": "3.10.8"
  }
 },
 "nbformat": 4,
 "nbformat_minor": 5
}
